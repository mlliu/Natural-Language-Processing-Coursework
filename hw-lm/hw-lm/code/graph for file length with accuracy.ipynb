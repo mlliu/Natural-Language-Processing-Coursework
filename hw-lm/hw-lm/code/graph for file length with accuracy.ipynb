{
 "cells": [
  {
   "cell_type": "code",
   "execution_count": 1,
   "id": "d59ce090",
   "metadata": {},
   "outputs": [],
   "source": [
    "#the helper function is used to plot a graph to show the relationship between file_length with accuracy\n",
    "#we have four result, gen - gen true positive 0\n",
    "#.                    gen - spam false negative 1\n",
    "#                     spam - gen false positive 2\n",
    "#                     spam - spam true negative 3\n",
    "import matplotlib.pyplot as plt\n",
    "def plot_accuracy(file):\n",
    "    f = open(file,\"r\")\n",
    "    lines = f.readlines()[:-2]\n",
    "    total_length = [] #length of each file -->x\n",
    "    total_result = [] #classification result 0,1,2,3 of each file -->y\n",
    "    l0=[]\n",
    "    l1=[]\n",
    "    l2=[]\n",
    "    l3 =[]\n",
    "    for line in lines:\n",
    "        #print(line)\n",
    "        output = line.split('\\t')[0].split('.')[0] #the classification result\n",
    "        right = line.split('\\t')[1]\n",
    "        label = right.split('/')[4]#the true lable\n",
    "        length = int(right.split('/')[5].split('.')[1]) # the length of the file\n",
    "        #print(output,label,length)\n",
    "        total_length.append(length)\n",
    "        if output == label == \"gen\":\n",
    "            total_result.append(0)\n",
    "            l0.append(length)\n",
    "        elif output == \"gen\" and label == \"spam\":\n",
    "            total_result.append(1)\n",
    "            l1.append(length)\n",
    "        elif output == \"spam\" and label == \"gen\":\n",
    "            total_result.append(2)\n",
    "            l2.append(length)\n",
    "        else:\n",
    "            total_result.append(3)\n",
    "            l3.append(length)\n",
    "    \n",
    "    print(total_length,total_result)\n",
    "    print(len(total_length))      \n",
    "    print(len(total_result) )   \n",
    "    plt.scatter(total_length,total_result)\n",
    "    plt.ylabel('classification')\n",
    "    plt.xlabel('length of file')\n",
    "    plt.show()\n",
    "        "
   ]
  },
  {
   "cell_type": "code",
   "execution_count": 2,
   "id": "5fdbd6f0",
   "metadata": {},
   "outputs": [
    {
     "name": "stdout",
     "output_type": "stream",
     "text": [
      "[10, 101, 1026, 1050, 106, 1071, 111, 113, 115, 115, 116, 1165, 118, 1208, 1209, 121, 121, 124, 128, 128, 129, 1290, 130, 131, 132, 135, 1355, 1388, 141, 142, 147, 147, 147, 152, 153, 154, 159, 16, 160, 161, 163, 168, 168, 170, 1715, 173, 174, 178, 181, 187, 190, 195, 197, 20, 21, 211, 218, 22, 221, 222, 230, 231, 234, 236, 236, 24, 24, 24, 240, 25, 257, 266, 266, 267, 268, 268, 27, 27, 275, 276, 28, 280, 283, 283, 29, 290, 299, 30, 300, 302, 302, 305, 316, 320, 322, 327, 328, 33, 331, 331, 34, 340, 345, 345, 35, 35, 354, 363, 368, 37, 371, 38, 39, 40, 404, 433, 44, 445, 447, 448, 449, 45, 451, 47, 47, 471, 48, 492, 50, 50, 51, 526, 532, 551, 56, 57, 571, 59, 60, 60, 60, 63, 64, 643, 65, 654, 66, 66, 66, 660, 660, 680, 69, 70, 700, 71, 713, 72, 76, 76, 766, 78, 80, 833, 86, 86, 872, 9, 90, 92, 93, 94, 95, 95, 953, 96, 96, 97, 98, 98, 10, 104, 108, 109, 109, 11, 115, 1158, 1158, 116, 117, 118, 120, 124, 124, 125, 129, 134, 14, 149, 159, 16, 160, 161, 164, 164, 165, 166, 175, 178, 18, 180, 180, 183, 193, 195, 198, 199, 20, 200, 201, 203, 209, 214, 219, 220, 220, 2262, 23, 239, 253, 257, 272, 280, 286, 293, 293, 305, 325, 35, 36, 364, 371, 4063, 4516, 457, 4635, 481, 5, 5, 5, 52, 55, 587, 62, 621, 69, 73, 78, 8, 80, 81, 8185, 87, 89, 9, 91, 92, 94, 98] [0, 0, 0, 0, 0, 0, 0, 0, 0, 0, 0, 0, 0, 2, 0, 0, 0, 0, 0, 0, 0, 0, 0, 0, 0, 0, 0, 0, 0, 0, 0, 0, 0, 0, 0, 0, 0, 0, 0, 0, 0, 0, 0, 0, 0, 0, 0, 0, 0, 0, 0, 0, 0, 0, 0, 0, 0, 0, 0, 0, 0, 0, 0, 0, 0, 0, 0, 0, 0, 0, 0, 0, 0, 0, 0, 0, 0, 0, 0, 0, 0, 0, 0, 0, 0, 0, 0, 0, 0, 0, 0, 0, 0, 0, 0, 0, 0, 2, 0, 0, 0, 0, 0, 0, 0, 0, 0, 0, 0, 0, 0, 0, 0, 0, 0, 0, 0, 0, 0, 0, 0, 0, 0, 0, 0, 0, 0, 0, 0, 0, 0, 0, 0, 0, 0, 0, 0, 0, 0, 0, 0, 0, 0, 0, 0, 0, 0, 0, 0, 0, 0, 0, 0, 0, 0, 0, 0, 0, 0, 0, 0, 0, 0, 0, 0, 0, 0, 2, 0, 0, 0, 0, 0, 0, 0, 0, 0, 0, 0, 0, 1, 3, 3, 3, 3, 1, 3, 1, 1, 1, 3, 3, 3, 3, 3, 3, 3, 1, 3, 3, 3, 1, 3, 1, 3, 1, 3, 3, 3, 3, 3, 3, 3, 1, 3, 3, 3, 3, 3, 3, 3, 1, 3, 3, 3, 3, 3, 1, 3, 1, 3, 1, 3, 3, 3, 3, 3, 3, 1, 1, 3, 3, 1, 1, 1, 1, 1, 3, 3, 3, 1, 3, 3, 1, 1, 3, 1, 3, 1, 3, 3, 3, 3, 1, 3, 1, 1, 3, 1, 3]\n",
      "270\n",
      "270\n"
     ]
    },
    {
     "data": {
      "image/png": "[encoded data removed]",
      "text/plain": [
       "<Figure size 432x288 with 1 Axes>"
      ]
     },
     "metadata": {
      "needs_background": "light"
     },
     "output_type": "display_data"
    }
   ],
   "source": [
    "file = \"gen_spam_accuracy\"\n",
    "plot_accuracy(file)"
   ]
  },
  {
   "cell_type": "code",
   "execution_count": 46,
   "id": "b2fc79d3",
   "metadata": {},
   "outputs": [
    {
     "name": "stdout",
     "output_type": "stream",
     "text": [
      "[10, 101, 1026, 1050, 106, 1071, 111, 113, 115, 115, 116, 1165, 118, 1208, 1209, 121, 121, 124, 128, 128, 129, 1290, 130, 131, 132, 135, 1355, 1388, 141, 142, 147, 147, 147, 152, 153, 154, 159, 16, 160, 161, 163, 168, 168, 170, 1715, 173, 174, 178, 181, 187, 190, 195, 197, 20, 21, 211, 218, 22, 221, 222, 230, 231, 234, 236, 236, 24, 24, 24, 240, 25, 257, 266, 266, 267, 268, 268, 27, 27, 275, 276, 28, 280, 283, 283, 29, 290, 299, 30, 300, 302, 302, 305, 316, 320, 322, 327, 328, 33, 331, 331, 34, 340, 345, 345, 35, 35, 354, 363, 368, 37, 371, 38, 39, 40, 404, 433, 44, 445, 447, 448, 449, 45, 451, 47, 47, 471, 48, 492, 50, 50, 51, 526, 532, 551, 56, 57, 571, 59, 60, 60, 60, 63, 64, 643, 65, 654, 66, 66, 66, 660, 660, 680, 69, 70, 700, 71, 713, 72, 76, 76, 766, 78, 80, 833, 86, 86, 872, 9, 90, 92, 93, 94, 95, 95, 953, 96, 96, 97, 98, 98, 10, 104, 108, 109, 109, 11, 115, 1158, 1158, 116, 117, 118, 120, 124, 124, 125, 129, 134, 14, 149, 159, 16, 160, 161, 164, 164, 165, 166, 175, 178, 18, 180, 180, 183, 193, 195, 198, 199, 20, 200, 201, 203, 209, 214, 219, 220, 220, 2262, 23, 239, 253, 257, 272, 280, 286, 293, 293, 305, 325, 35, 36, 364, 371, 4063, 4516, 457, 4635, 481, 5, 5, 5, 52, 55, 587, 62, 621, 69, 73, 78, 8, 80, 81, 8185, 87, 89, 9, 91, 92, 94, 98] [0, 0, 0, 0, 0, 0, 0, 0, 0, 0, 0, 0, 0, 2, 0, 0, 0, 0, 0, 0, 0, 0, 0, 0, 0, 0, 0, 0, 0, 0, 0, 0, 0, 0, 0, 0, 0, 0, 0, 0, 0, 0, 0, 0, 0, 0, 0, 0, 0, 0, 0, 0, 0, 0, 0, 0, 0, 0, 0, 0, 0, 0, 0, 0, 0, 0, 0, 0, 0, 0, 0, 0, 0, 0, 0, 0, 0, 0, 0, 0, 0, 0, 0, 0, 0, 0, 0, 0, 0, 0, 0, 0, 0, 0, 0, 0, 0, 2, 0, 0, 0, 0, 0, 0, 0, 0, 0, 0, 0, 0, 0, 0, 0, 0, 0, 0, 0, 0, 0, 0, 0, 0, 0, 0, 0, 0, 0, 0, 0, 0, 0, 0, 0, 0, 0, 0, 0, 0, 0, 0, 0, 0, 0, 0, 0, 0, 0, 0, 0, 0, 0, 0, 0, 0, 0, 0, 0, 0, 0, 0, 0, 0, 0, 0, 0, 0, 0, 2, 0, 0, 0, 0, 0, 0, 0, 0, 0, 0, 0, 0, 1, 3, 3, 3, 3, 1, 3, 1, 1, 1, 3, 3, 3, 3, 3, 3, 3, 1, 3, 3, 3, 1, 3, 1, 3, 1, 3, 3, 3, 3, 3, 3, 3, 1, 3, 3, 3, 3, 3, 3, 3, 1, 3, 3, 3, 3, 3, 1, 3, 1, 3, 1, 3, 3, 3, 3, 3, 3, 1, 1, 3, 3, 1, 1, 1, 1, 1, 3, 3, 3, 1, 3, 3, 1, 1, 3, 1, 3, 1, 3, 3, 3, 3, 1, 3, 1, 1, 3, 1, 3]\n",
      "270\n",
      "270\n"
     ]
    },
    {
     "data": {
      "image/png": "[encoded data removed]",
      "text/plain": [
       "<Figure size 432x288 with 1 Axes>"
      ]
     },
     "metadata": {
      "needs_background": "light"
     },
     "output_type": "display_data"
    },
    {
     "name": "stdout",
     "output_type": "stream",
     "text": [
      "None\n",
      "None\n",
      "None\n",
      "None\n"
     ]
    }
   ],
   "source": [
    "f = open(file,\"r\")\n",
    "lines = f.readlines()[:-2]\n",
    "total_length = [] #length of each file -->x\n",
    "total_result = [] #classification result 0,1,2,3 of each file -->y\n",
    "l0=[]\n",
    "l1=[]\n",
    "l2=[]\n",
    "l3 =[]\n",
    "for line in lines:\n",
    "    #print(line)\n",
    "    output = line.split('\\t')[0].split('.')[0] #the classification result\n",
    "    right = line.split('\\t')[1]\n",
    "    label = right.split('/')[4]#the true lable\n",
    "    length = int(right.split('/')[5].split('.')[1]) # the length of the file\n",
    "    #print(output,label,length)\n",
    "    total_length.append(length)\n",
    "    if output == label == \"gen\":\n",
    "        total_result.append(0)\n",
    "        l0.append(length)\n",
    "    elif output == \"gen\" and label == \"spam\":\n",
    "        total_result.append(1)\n",
    "        l1.append(length)\n",
    "    elif output == \"spam\" and label == \"gen\":\n",
    "        total_result.append(2)\n",
    "        l2.append(length)\n",
    "    else:\n",
    "        total_result.append(3)\n",
    "        l3.append(length)\n",
    "\n",
    "print(total_length,total_result)\n",
    "print(len(total_length))      \n",
    "print(len(total_result) )   \n",
    "plt.scatter(total_length,total_result)\n",
    "plt.show()\n",
    "print(l0.sort())\n",
    "print(l1.sort())\n",
    "print(l2.sort())\n",
    "print(l3.sort())"
   ]
  },
  {
   "cell_type": "code",
   "execution_count": 47,
   "id": "b779ed27",
   "metadata": {},
   "outputs": [
    {
     "name": "stdout",
     "output_type": "stream",
     "text": [
      "[10, 16, 20, 21, 22, 24, 24, 24, 25, 27, 27, 28, 29, 30, 34, 35, 35, 37, 38, 39, 40, 44, 45, 47, 47, 48, 50, 50, 51, 56, 57, 59, 60, 60, 60, 63, 64, 65, 66, 66, 66, 69, 70, 71, 72, 76, 76, 78, 80, 86, 86, 90, 92, 93, 94, 95, 95, 96, 96, 97, 98, 98, 101, 106, 111, 113, 115, 115, 116, 118, 121, 121, 124, 128, 128, 129, 130, 131, 132, 135, 141, 142, 147, 147, 147, 152, 153, 154, 159, 160, 161, 163, 168, 168, 170, 173, 174, 178, 181, 187, 190, 195, 197, 211, 218, 221, 222, 230, 231, 234, 236, 236, 240, 257, 266, 266, 267, 268, 268, 275, 276, 280, 283, 283, 290, 299, 300, 302, 302, 305, 316, 320, 322, 327, 328, 331, 331, 340, 345, 345, 354, 363, 368, 371, 404, 433, 445, 447, 448, 449, 451, 471, 492, 526, 532, 551, 571, 643, 654, 660, 660, 680, 700, 713, 766, 833, 872, 953, 1026, 1050, 1071, 1165, 1209, 1290, 1355, 1388, 1715]\n"
     ]
    }
   ],
   "source": [
    "print(l0)"
   ]
  },
  {
   "cell_type": "code",
   "execution_count": 48,
   "id": "7685586b",
   "metadata": {},
   "outputs": [
    {
     "name": "stdout",
     "output_type": "stream",
     "text": [
      "[5, 9, 10, 11, 16, 35, 62, 69, 78, 87, 91, 94, 116, 134, 161, 164, 183, 203, 239, 257, 325, 371, 457, 587, 1158, 1158, 2262, 4063, 4516, 4635]\n"
     ]
    }
   ],
   "source": [
    "print(l1)"
   ]
  },
  {
   "cell_type": "code",
   "execution_count": 49,
   "id": "b1a377fa",
   "metadata": {},
   "outputs": [
    {
     "name": "stdout",
     "output_type": "stream",
     "text": [
      "[9, 33, 1208]\n"
     ]
    }
   ],
   "source": [
    "print(l2)"
   ]
  },
  {
   "cell_type": "code",
   "execution_count": 50,
   "id": "c68df3b0",
   "metadata": {},
   "outputs": [
    {
     "name": "stdout",
     "output_type": "stream",
     "text": [
      "[5, 5, 8, 14, 18, 20, 23, 36, 52, 55, 73, 80, 81, 89, 92, 98, 104, 108, 109, 109, 115, 117, 118, 120, 124, 124, 125, 129, 149, 159, 160, 164, 165, 166, 175, 178, 180, 180, 193, 195, 198, 199, 200, 201, 209, 214, 219, 220, 220, 253, 272, 280, 286, 293, 293, 305, 364, 481, 621, 8185]\n"
     ]
    }
   ],
   "source": [
    "print(l3)"
   ]
  },
  {
   "cell_type": "code",
   "execution_count": 52,
   "id": "350d1314",
   "metadata": {},
   "outputs": [
    {
     "data": {
      "image/png": "[encoded data removed]",
      "text/plain": [
       "<Figure size 432x288 with 1 Axes>"
      ]
     },
     "metadata": {
      "needs_background": "light"
     },
     "output_type": "display_data"
    }
   ],
   "source": [
    "error_rate = [0.122,0.0704,0.0667,0.0667]\n",
    "plt.plot(error_rate)\n",
    "plt.ylabel('error_rate')\n",
    "plt.xlabel('training_size')\n",
    "plt.show()"
   ]
  },
  {
   "cell_type": "code",
   "execution_count": null,
   "id": "6d010f96",
   "metadata": {},
   "outputs": [],
   "source": []
  }
 ],
 "metadata": {
  "kernelspec": {
   "display_name": "Python 3",
   "language": "python",
   "name": "python3"
  },
  "language_info": {
   "codemirror_mode": {
    "name": "ipython",
    "version": 3
   },
   "file_extension": ".py",
   "mimetype": "text/x-python",
   "name": "python",
   "nbconvert_exporter": "python",
   "pygments_lexer": "ipython3",
   "version": "3.8.8"
  }
 },
 "nbformat": 4,
 "nbformat_minor": 5
}
